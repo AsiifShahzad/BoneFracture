{
 "cells": [
  {
   "cell_type": "markdown",
   "id": "da843447",
   "metadata": {},
   "source": [
    "# Bone Fracture Image Transformations  \n",
    "Interactive **Negative** & **Gamma** correction demo (with image upload).\n"
   ]
  },
  {
   "cell_type": "code",
   "execution_count": 13,
   "id": "1e01de83",
   "metadata": {},
   "outputs": [],
   "source": [
    "import cv2\n",
    "import numpy as np\n",
    "import matplotlib.pyplot as plt\n",
    "from ipywidgets import interact, FloatSlider, FileUpload, VBox, Output, HTML\n",
    "from IPython.display import display\n",
    "import os, random\n"
   ]
  },
  {
   "cell_type": "code",
   "execution_count": null,
   "id": "7877e4f9",
   "metadata": {},
   "outputs": [],
   "source": [
    "def plot_image_and_hist(image, title):\n",
    "    \"\"\"Draw image + histogram with normalized counts and visible bars.\"\"\"\n",
    "    fig, ax = plt.subplots(1, 2, figsize=(10, 4))\n",
    "  \n",
    "    ax[0].imshow(image, cmap='gray')\n",
    "    ax[0].set_title(title)\n",
    "    ax[0].axis('off')\n",
    "    \n",
    "    hist, bins = np.histogram(image.ravel(), bins=256, range=(0, 256))\n",
    "\n",
    "    hist_norm = hist / hist.max()\n",
    "  \n",
    "    ax[1].bar(bins[:-1], hist_norm, width=1, color='gray')\n",
    "    ax[1].set_title(\"Histogram (normalized)\")\n",
    "    ax[1].set_xlim([0, 256])\n",
    "    ax[1].set_ylim([0, 1.05]) \n",
    "    ax[1].set_ylabel(\"Normalized Count\")\n",
    "    \n",
    "    plt.tight_layout()\n",
    "    plt.show()\n"
   ]
  },
  {
   "cell_type": "code",
   "execution_count": null,
   "id": "05260b1d",
   "metadata": {},
   "outputs": [
    {
     "name": "stdout",
     "output_type": "stream",
     "text": [
      "Random default: C:\\Users\\user\\Downloads\\bone fracture detection.v4-v4.yolov8\\train\\images\\image2_2819_png.rf.18a2eccfcc7211e5724d7162d4bef51c.jpg\n"
     ]
    }
   ],
   "source": [
    "folder = r\"C:\\Users\\user\\Downloads\\bone fracture detection.v4-v4.yolov8\\train\\images\"\n",
    "valid_ext = (\".jpg\", \".jpeg\", \".png\", \".bmp\", \".tif\", \".tiff\")\n",
    "\n",
    "candidates = [f for f in os.listdir(folder) if f.lower().endswith(valid_ext)]\n",
    "if not candidates:\n",
    "    raise FileNotFoundError(\"No valid images in folder\")\n",
    "\n",
    "rand_path = os.path.join(folder, random.choice(candidates))\n",
    "print(\"Random default:\", rand_path)\n",
    "\n",
    "original = cv2.imread(rand_path, cv2.IMREAD_GRAYSCALE)\n",
    "if original is None:\n",
    "    raise FileNotFoundError(\"Could not read default image\")\n",
    "\n",
    "negative = 255 - original\n"
   ]
  },
  {
   "cell_type": "code",
   "execution_count": null,
   "id": "964ce3a5",
   "metadata": {},
   "outputs": [],
   "source": [
    "gamma_slider = FloatSlider(\n",
    "    value=1.0, min=0.1, max=5.0, step=0.1,\n",
    "    description='Gamma', continuous_update=False\n",
    ")\n",
    "\n",
    "upload = FileUpload(accept='image/*', multiple=False)\n",
    "out = Output()\n",
    "\n",
    "def show_gamma(g):\n",
    "    out.clear_output(wait=True)\n",
    "    gamma_corrected = np.array(255 * (original / 255) ** g, dtype='uint8')\n",
    "    with out:\n",
    "        plot_image_and_hist(original, \"Original\")\n",
    "        plot_image_and_hist(negative, \"Negative\")\n",
    "        plot_image_and_hist(gamma_corrected, f\"Gamma {g:.1f}\")\n",
    "\n",
    "def handle_upload(change):\n",
    "    global original, negative, rand_path\n",
    "    if not upload.value:\n",
    "        return\n",
    "\n",
    "    if isinstance(upload.value, tuple):\n",
    "        up_file = upload.value[0]\n",
    "        file_bytes = up_file.content\n",
    "        filename = up_file.name\n",
    "    else:\n",
    "        up_file = next(iter(upload.value.values()))\n",
    "        file_bytes = up_file['content']\n",
    "        filename = up_file['metadata']['name']\n",
    "\n",
    "    original = load_image_gray(file_bytes)\n",
    "    negative = 255 - original\n",
    "    rand_path = \"Uploaded:\" + filename \n",
    "    print(f\"Loaded uploaded image: {filename}\")\n",
    "    show_gamma(gamma_slider.value)\n",
    "\n",
    "upload.observe(handle_upload, names='value')\n",
    "gamma_slider.observe(lambda c: show_gamma(gamma_slider.value), names='value')\n"
   ]
  },
  {
   "cell_type": "code",
   "execution_count": null,
   "id": "059fc800",
   "metadata": {},
   "outputs": [
    {
     "data": {
      "application/vnd.jupyter.widget-view+json": {
       "model_id": "58061a25281743168dccdc11043ba505",
       "version_major": 2,
       "version_minor": 0
      },
      "text/plain": [
       "VBox(children=(HTML(value=\"<h2 style='color:#2c3e50; font-family:sans-serif;'>Interactive Bone X-ray Transform…"
      ]
     },
     "metadata": {},
     "output_type": "display_data"
    }
   ],
   "source": [
    "title_html = HTML(\n",
    "    \"<h2 style='color:#2c3e50; font-family:sans-serif;'>\"\n",
    "    \"Interactive Bone X-ray Transformations</h2>\"\n",
    ")\n",
    "\n",
    "display(VBox([title_html, upload, gamma_slider, out]))\n",
    "\n",
    "show_gamma(gamma_slider.value)\n"
   ]
  },
  {
   "cell_type": "code",
   "execution_count": null,
   "id": "ff2e8236",
   "metadata": {},
   "outputs": [],
   "source": []
  }
 ],
 "metadata": {
  "kernelspec": {
   "display_name": "Python 3",
   "language": "python",
   "name": "python3"
  },
  "language_info": {
   "codemirror_mode": {
    "name": "ipython",
    "version": 3
   },
   "file_extension": ".py",
   "mimetype": "text/x-python",
   "name": "python",
   "nbconvert_exporter": "python",
   "pygments_lexer": "ipython3",
   "version": "3.12.1"
  }
 },
 "nbformat": 4,
 "nbformat_minor": 5
}
